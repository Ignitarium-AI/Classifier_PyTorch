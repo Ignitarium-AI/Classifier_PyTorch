{
 "cells": [
  {
   "attachments": {},
   "cell_type": "markdown",
   "metadata": {},
   "source": [
    "This notebook from <a href=\"https://github.com/Ignitarium-AI/Classifier_PyTorch\">Classifier_Pytorch</a> presents simple train, validate and predict examples to help start your classification. contains the classifier code in pytorch for Training, Testing and Inferecing."
   ]
  },
  {
   "attachments": {},
   "cell_type": "markdown",
   "metadata": {},
   "source": [
    "# Setup\n",
    "\n",
    "Clone GitHub [repository](https://github.com/Ignitarium-AI/Classifier_PyTorch), install [dependencies](https://github.com/Ignitarium-AI/Classifier_PyTorch/blob/main/requirements.txt) and check PyTorch and GPU."
   ]
  },
  {
   "cell_type": "code",
   "execution_count": null,
   "metadata": {},
   "outputs": [],
   "source": [
    "!git clone https://github.com/Ignitarium-AI/Classifier_PyTorch.git  # clone\n",
    "%cd Classifier_PyTorch/\n",
    "%pip install -U pip\n",
    "%pip install -qr requirements.txt  # install\n",
    "%pip install -e .\n",
    "\n",
    "import torch\n",
    "device = \"CUDA\" if torch.cuda.is_available() else \"cpu\"\n",
    "print(f\"Running on {device}\")"
   ]
  },
  {
   "attachments": {},
   "cell_type": "markdown",
   "metadata": {},
   "source": [
    "## Download the sample cat vs dog dataset and unzip"
   ]
  },
  {
   "cell_type": "code",
   "execution_count": null,
   "metadata": {},
   "outputs": [],
   "source": [
    "%cd ../\n",
    "!wget https://github.com/Ignitarium-AI/Classifier_PyTorch/releases/download/dataset/cat_dog_classifier.zip -P workspace/DB/\n",
    "%cd workspace/DB\n",
    "!unzip -o cat_dog_classifier.zip\n",
    "%cd ../..\n",
    "!pwd"
   ]
  },
  {
   "attachments": {},
   "cell_type": "markdown",
   "metadata": {},
   "source": [
    "## Training"
   ]
  },
  {
   "attachments": {},
   "cell_type": "markdown",
   "metadata": {},
   "source": [
    "For training classifier model, following are the list of supported models\n",
    "\n",
    "    [\"alexnet\", \"convnext_tiny\", \"convnext_small\", \"convnext_large\", \"densenet121\", \"densenet161\", \"densenet169\", \"densenet201\", \"efficientnet_b0\", \"efficientnet_b1\", \"efficientnet_b2\", \"efficientnet_b3\", \"efficientnet_b4\", \"efficientnet_b5\", \"efficientnet_b6\", \"efficientnet_b7\", \"inception_v3\", \"mnasnet0_5\", \"mnasnet0_75\", \"mnasnet1_0\", \"mnasnet1_3\", \"mobilenet_v2\", \"mobilenet_v3_large\", \"mobilenet_v3_small\", \"resnet18\", \"resnet34\", \"resnet50\", \"resnet101\", \"resnet152\", \"resnext50_32x4d\", \"resnext101_32x8d\", \"shufflenet_v2_x0_5\", \"shufflenet_v2_x1_0\", \"shufflenet_v2_x1_5\", \"shufflenet_v2_x2_0\", \"squeezenet1_0\", \"squeezenet1_1\", \"vgg16\", \"vgg19\", \"custom_model\", \"vit\"]\n",
    "\n",
    "For training custom_model, modify `custom_model.py` and select custom_model from above list"
   ]
  },
  {
   "cell_type": "code",
   "execution_count": null,
   "metadata": {},
   "outputs": [],
   "source": [
    "# training resnet18 for 10 epochs\n",
    "\n",
    "!python -m classifier.train --model_name resnet18 --num_classes 2 --classes cat dog --work_dir workspace --seed 42 -lr 0.0001 -ep 10 --data_path workspace/DB/cat_dog_classifier"
   ]
  },
  {
   "attachments": {},
   "cell_type": "markdown",
   "metadata": {},
   "source": [
    "## Testing\n",
    "\n",
    "To test and evaluate the classifier, Run following command.\n",
    "\n",
    "Following command will evaluate test dataloader with Precision, Recall, F1-score, and Confusion matrics. Here 0.8 is testing threshold, assertion is raised if achieved testing accuracy is less than 0.8."
   ]
  },
  {
   "cell_type": "code",
   "execution_count": null,
   "metadata": {},
   "outputs": [],
   "source": [
    "!python -m classifier.test --model_name resnet18 --num_classes 2 --classes cat dog --work_dir workspace --data_path workspace/DB/cat_dog_classifier -t 0.8"
   ]
  },
  {
   "attachments": {},
   "cell_type": "markdown",
   "metadata": {},
   "source": [
    "## Inference on single image"
   ]
  },
  {
   "cell_type": "code",
   "execution_count": null,
   "metadata": {},
   "outputs": [],
   "source": [
    "!python -m classifier.infer --model_name resnet18 --num_classes 2 --classes cat dog --work_dir workspace --img_path workspace/DB/cat_dog_classifier/test/Cat/500.jpg"
   ]
  },
  {
   "attachments": {},
   "cell_type": "markdown",
   "metadata": {},
   "source": [
    "## Inference on folder of images"
   ]
  },
  {
   "cell_type": "code",
   "execution_count": null,
   "metadata": {},
   "outputs": [],
   "source": [
    "!python -m classifier.infer --model_name resnet18 --num_classes 2 --classes cat dog --work_dir workspace --folder_path workspace/DB/cat_dog_classifier/test/Cat/"
   ]
  },
  {
   "cell_type": "code",
   "execution_count": null,
   "metadata": {},
   "outputs": [],
   "source": []
  }
 ],
 "metadata": {
  "kernelspec": {
   "display_name": "cls",
   "language": "python",
   "name": "python3"
  },
  "language_info": {
   "codemirror_mode": {
    "name": "ipython",
    "version": 3
   },
   "file_extension": ".py",
   "mimetype": "text/x-python",
   "name": "python",
   "nbconvert_exporter": "python",
   "pygments_lexer": "ipython3",
   "version": "3.8.10"
  },
  "orig_nbformat": 4
 },
 "nbformat": 4,
 "nbformat_minor": 2
}
